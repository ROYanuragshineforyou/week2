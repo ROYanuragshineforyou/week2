{
 "cells": [
  {
   "cell_type": "code",
   "execution_count": 4,
   "id": "c3aa702e-0f64-4776-b049-0611cd5a9e75",
   "metadata": {},
   "outputs": [
    {
     "name": "stdout",
     "output_type": "stream",
     "text": [
      "Welcome to Word Counter!\n"
     ]
    },
    {
     "name": "stdin",
     "output_type": "stream",
     "text": [
      "Enter a sentence or paragraph:  my name is anurag\n"
     ]
    },
    {
     "name": "stdout",
     "output_type": "stream",
     "text": [
      "The word count is: 4\n"
     ]
    }
   ],
   "source": [
    "# Function to count words in a sentence\n",
    "def count_words(sentence):\n",
    "    words = sentence.split()  # Split the sentence into words\n",
    "    return len(words)  # Count the number of words\n",
    "\n",
    "print(\"Welcome to Word Counter!\")\n",
    "user_input = input(\"Enter a sentence or paragraph: \")\n",
    "\n",
    "word_count = count_words(user_input)  # Count words using the function\n",
    "\n",
    "print(f\"The word count is: {word_count}\")\n"
   ]
  },
  {
   "cell_type": "code",
   "execution_count": null,
   "id": "9c7c3f75-c2e6-4c16-9567-b1b55b129a97",
   "metadata": {},
   "outputs": [],
   "source": []
  }
 ],
 "metadata": {
  "kernelspec": {
   "display_name": "anaconda-panel-2023.05-py310",
   "language": "python",
   "name": "conda-env-anaconda-panel-2023.05-py310-py"
  },
  "language_info": {
   "codemirror_mode": {
    "name": "ipython",
    "version": 3
   },
   "file_extension": ".py",
   "mimetype": "text/x-python",
   "name": "python",
   "nbconvert_exporter": "python",
   "pygments_lexer": "ipython3",
   "version": "3.11.5"
  }
 },
 "nbformat": 4,
 "nbformat_minor": 5
}
